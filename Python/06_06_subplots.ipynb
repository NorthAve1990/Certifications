{
 "cells": [
  {
   "cell_type": "code",
   "execution_count": 1,
   "metadata": {},
   "outputs": [],
   "source": [
    "# import relevant libraries\n",
    "import numpy as np\n",
    "import pandas as pd\n",
    "import matplotlib.pyplot as plt"
   ]
  },
  {
   "cell_type": "code",
   "execution_count": 2,
   "metadata": {},
   "outputs": [],
   "source": [
    "# create a pandas series containing students' grades on Emam #1 in a particular course\n",
    "exam1_grades = pd.Series(np.random.normal(50, 15, 400))"
   ]
  },
  {
   "cell_type": "code",
   "execution_count": 3,
   "metadata": {},
   "outputs": [],
   "source": [
    "# create a pandas series containing students' grades on Emam #2 in a particular course\n",
    "exam2_grades = pd.Series(np.random.normal(60, 10, 400))"
   ]
  },
  {
   "cell_type": "code",
   "execution_count": 4,
   "metadata": {},
   "outputs": [
    {
     "data": {
      "text/plain": [
       "0      64.772129\n",
       "1      40.392167\n",
       "2      62.908482\n",
       "3      71.179864\n",
       "4      40.141738\n",
       "         ...    \n",
       "395    44.801896\n",
       "396    35.320147\n",
       "397    61.513250\n",
       "398    54.360654\n",
       "399    62.653282\n",
       "Length: 400, dtype: float64"
      ]
     },
     "execution_count": 4,
     "metadata": {},
     "output_type": "execute_result"
    }
   ],
   "source": [
    "# display first few values in exam1_grades\n",
    "exam1_grades"
   ]
  },
  {
   "cell_type": "code",
   "execution_count": 5,
   "metadata": {},
   "outputs": [
    {
     "data": {
      "text/plain": [
       "0      61.907084\n",
       "1      63.219143\n",
       "2      77.262146\n",
       "3      52.395264\n",
       "4      69.742492\n",
       "         ...    \n",
       "395    52.002060\n",
       "396    63.733771\n",
       "397    54.874202\n",
       "398    72.242462\n",
       "399    69.916229\n",
       "Length: 400, dtype: float64"
      ]
     },
     "execution_count": 5,
     "metadata": {},
     "output_type": "execute_result"
    }
   ],
   "source": [
    "# display first few values in exam2_grades\n",
    "exam2_grades"
   ]
  },
  {
   "cell_type": "code",
   "execution_count": 9,
   "metadata": {},
   "outputs": [
    {
     "data": {
      "image/png": "[encoded data removed]",
      "text/plain": [
       "<Figure size 720x360 with 2 Axes>"
      ]
     },
     "metadata": {
      "needs_background": "light"
     },
     "output_type": "display_data"
    }
   ],
   "source": [
    "# create 2 horizontally stacked subplots:\n",
    "# display histogram for exam1_grades and histogram for exam2_grades side by side\n",
    "\n",
    "figure, axes = plt.subplots(1, 2, figsize = (10, 5))\n",
    "\n",
    "axes[0].hist(exam1_grades, color = 'green')\n",
    "axes[0].set_title('Distribution of Grades for Exam #1')\n",
    "axes[1].hist(exam2_grades, color = 'blue')\n",
    "axes[1].set_title('Distribution of Grades for Exam #2')\n",
    "\n",
    "for a in axes.flat:\n",
    "    a.set(xlabel = 'Grade(%)', ylabel = 'Count')\n",
    "    \n",
    "plt.show()\n"
   ]
  },
  {
   "cell_type": "code",
   "execution_count": null,
   "metadata": {},
   "outputs": [],
   "source": []
  }
 ],
 "metadata": {
  "kernelspec": {
   "display_name": "Python 3",
   "language": "python",
   "name": "python3"
  },
  "language_info": {
   "codemirror_mode": {
    "name": "ipython",
    "version": 3
   },
   "file_extension": ".py",
   "mimetype": "text/x-python",
   "name": "python",
   "nbconvert_exporter": "python",
   "pygments_lexer": "ipython3",
   "version": "3.8.5"
  }
 },
 "nbformat": 4,
 "nbformat_minor": 4
}
