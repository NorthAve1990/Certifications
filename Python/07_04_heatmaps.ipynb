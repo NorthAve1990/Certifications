{
 "cells": [
  {
   "cell_type": "code",
   "execution_count": 7,
   "metadata": {},
   "outputs": [],
   "source": [
    "# import relevant libraries\n",
    "import numpy as np\n",
    "import pandas as pd\n",
    "import matplotlib.pyplot as plt\n",
    "import seaborn as sns"
   ]
  },
  {
   "cell_type": "code",
   "execution_count": 9,
   "metadata": {},
   "outputs": [],
   "source": [
    "# create a variable that contains a numpy array representing the sales of small business for each of\n",
    "data = np.random.randint(100, 301, size = (12, 15))\n",
    "\n",
    "# create a variable that contains the list of months\n",
    "months = ['January', 'February', 'March', 'April', 'May', 'June', 'July', \n",
    "          'August', 'September', 'October', 'November', 'December']\n",
    "\n",
    "# create a variable that contains a list of the years from 2008 to 2022 inclusive\n",
    "years = [2008, 2009, 2010, 2011, 2012, 2013, 2014, 2015, 2016, 2017, 2018, 2019, 2020, 2021, 2022]\n",
    "\n",
    "# create a variable named sales that contains a dataframe\n",
    "# that dataframe consists of the sales of a small business across 12 months\n",
    "# there is on entry for each month of each year between 2008 and 2022 inclusive\n",
    "sales = pd.DataFrame(data, index=months, columns=years)"
   ]
  },
  {
   "cell_type": "code",
   "execution_count": 10,
   "metadata": {},
   "outputs": [
    {
     "data": {
      "text/html": [
       "<div>\n",
       "<style scoped>\n",
       "    .dataframe tbody tr th:only-of-type {\n",
       "        vertical-align: middle;\n",
       "    }\n",
       "\n",
       "    .dataframe tbody tr th {\n",
       "        vertical-align: top;\n",
       "    }\n",
       "\n",
       "    .dataframe thead th {\n",
       "        text-align: right;\n",
       "    }\n",
       "</style>\n",
       "<table border=\"1\" class=\"dataframe\">\n",
       "  <thead>\n",
       "    <tr style=\"text-align: right;\">\n",
       "      <th></th>\n",
       "      <th>2008</th>\n",
       "      <th>2009</th>\n",
       "      <th>2010</th>\n",
       "      <th>2011</th>\n",
       "      <th>2012</th>\n",
       "      <th>2013</th>\n",
       "      <th>2014</th>\n",
       "      <th>2015</th>\n",
       "      <th>2016</th>\n",
       "      <th>2017</th>\n",
       "      <th>2018</th>\n",
       "      <th>2019</th>\n",
       "      <th>2020</th>\n",
       "      <th>2021</th>\n",
       "      <th>2022</th>\n",
       "    </tr>\n",
       "  </thead>\n",
       "  <tbody>\n",
       "    <tr>\n",
       "      <th>January</th>\n",
       "      <td>122</td>\n",
       "      <td>167</td>\n",
       "      <td>179</td>\n",
       "      <td>145</td>\n",
       "      <td>270</td>\n",
       "      <td>226</td>\n",
       "      <td>203</td>\n",
       "      <td>239</td>\n",
       "      <td>102</td>\n",
       "      <td>122</td>\n",
       "      <td>122</td>\n",
       "      <td>180</td>\n",
       "      <td>147</td>\n",
       "      <td>145</td>\n",
       "      <td>124</td>\n",
       "    </tr>\n",
       "    <tr>\n",
       "      <th>February</th>\n",
       "      <td>179</td>\n",
       "      <td>101</td>\n",
       "      <td>127</td>\n",
       "      <td>116</td>\n",
       "      <td>165</td>\n",
       "      <td>150</td>\n",
       "      <td>195</td>\n",
       "      <td>172</td>\n",
       "      <td>142</td>\n",
       "      <td>110</td>\n",
       "      <td>132</td>\n",
       "      <td>203</td>\n",
       "      <td>270</td>\n",
       "      <td>104</td>\n",
       "      <td>169</td>\n",
       "    </tr>\n",
       "    <tr>\n",
       "      <th>March</th>\n",
       "      <td>150</td>\n",
       "      <td>232</td>\n",
       "      <td>275</td>\n",
       "      <td>199</td>\n",
       "      <td>110</td>\n",
       "      <td>124</td>\n",
       "      <td>212</td>\n",
       "      <td>161</td>\n",
       "      <td>270</td>\n",
       "      <td>156</td>\n",
       "      <td>106</td>\n",
       "      <td>298</td>\n",
       "      <td>112</td>\n",
       "      <td>226</td>\n",
       "      <td>211</td>\n",
       "    </tr>\n",
       "    <tr>\n",
       "      <th>April</th>\n",
       "      <td>217</td>\n",
       "      <td>243</td>\n",
       "      <td>210</td>\n",
       "      <td>192</td>\n",
       "      <td>267</td>\n",
       "      <td>262</td>\n",
       "      <td>184</td>\n",
       "      <td>249</td>\n",
       "      <td>219</td>\n",
       "      <td>175</td>\n",
       "      <td>243</td>\n",
       "      <td>163</td>\n",
       "      <td>216</td>\n",
       "      <td>191</td>\n",
       "      <td>148</td>\n",
       "    </tr>\n",
       "    <tr>\n",
       "      <th>May</th>\n",
       "      <td>227</td>\n",
       "      <td>123</td>\n",
       "      <td>112</td>\n",
       "      <td>224</td>\n",
       "      <td>115</td>\n",
       "      <td>234</td>\n",
       "      <td>193</td>\n",
       "      <td>159</td>\n",
       "      <td>259</td>\n",
       "      <td>223</td>\n",
       "      <td>197</td>\n",
       "      <td>203</td>\n",
       "      <td>271</td>\n",
       "      <td>298</td>\n",
       "      <td>113</td>\n",
       "    </tr>\n",
       "  </tbody>\n",
       "</table>\n",
       "</div>"
      ],
      "text/plain": [
       "          2008  2009  2010  2011  2012  2013  2014  2015  2016  2017  2018  \\\n",
       "January    122   167   179   145   270   226   203   239   102   122   122   \n",
       "February   179   101   127   116   165   150   195   172   142   110   132   \n",
       "March      150   232   275   199   110   124   212   161   270   156   106   \n",
       "April      217   243   210   192   267   262   184   249   219   175   243   \n",
       "May        227   123   112   224   115   234   193   159   259   223   197   \n",
       "\n",
       "          2019  2020  2021  2022  \n",
       "January    180   147   145   124  \n",
       "February   203   270   104   169  \n",
       "March      298   112   226   211  \n",
       "April      163   216   191   148  \n",
       "May        203   271   298   113  "
      ]
     },
     "execution_count": 10,
     "metadata": {},
     "output_type": "execute_result"
    }
   ],
   "source": [
    "# display first few rows of sales\n",
    "sales.head()"
   ]
  },
  {
   "cell_type": "code",
   "execution_count": 12,
   "metadata": {},
   "outputs": [
    {
     "data": {
      "image/png": "[encoded data removed]",
      "text/plain": [
       "<Figure size 432x288 with 2 Axes>"
      ]
     },
     "metadata": {
      "needs_background": "light"
     },
     "output_type": "display_data"
    }
   ],
   "source": [
    "# create a headmap of sales\n",
    "sns.heatmap(sales);"
   ]
  },
  {
   "cell_type": "code",
   "execution_count": null,
   "metadata": {},
   "outputs": [],
   "source": []
  }
 ],
 "metadata": {
  "kernelspec": {
   "display_name": "Python 3",
   "language": "python",
   "name": "python3"
  },
  "language_info": {
   "codemirror_mode": {
    "name": "ipython",
    "version": 3
   },
   "file_extension": ".py",
   "mimetype": "text/x-python",
   "name": "python",
   "nbconvert_exporter": "python",
   "pygments_lexer": "ipython3",
   "version": "3.8.5"
  }
 },
 "nbformat": 4,
 "nbformat_minor": 4
}
